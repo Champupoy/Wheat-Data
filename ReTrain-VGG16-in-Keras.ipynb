{
 "cells": [
  {
   "cell_type": "code",
   "execution_count": 2,
   "metadata": {},
   "outputs": [],
   "source": [
    "import keras\n",
    "from keras.models import Model\n",
    "from keras.layers import Dense\n",
    "from keras import optimizers\n",
    "from keras.preprocessing.image import ImageDataGenerator\n",
    "from keras.preprocessing import image"
   ]
  },
  {
   "cell_type": "code",
   "execution_count": 3,
   "metadata": {},
   "outputs": [
    {
     "name": "stdout",
     "output_type": "stream",
     "text": [
      "Found 284 images belonging to 3 classes.\n",
      "Found 123 images belonging to 3 classes.\n"
     ]
    }
   ],
   "source": [
    "trdata = ImageDataGenerator()\n",
    "traindata = trdata.flow_from_directory(directory=\"wheat_leaf/train\",target_size=(224,224))\n",
    "tsdata = ImageDataGenerator()\n",
    "testdata = tsdata.flow_from_directory(directory=\"wheat_leaf/test\", target_size=(224,224))"
   ]
  },
  {
   "cell_type": "code",
   "execution_count": 4,
   "metadata": {},
   "outputs": [],
   "source": [
    "from keras.applications.vgg16 import VGG16\n",
    "vggmodel = VGG16(weights='imagenet', include_top=True)"
   ]
  },
  {
   "cell_type": "code",
   "execution_count": 5,
   "metadata": {},
   "outputs": [
    {
     "name": "stdout",
     "output_type": "stream",
     "text": [
      "Model: \"vgg16\"\n",
      "_________________________________________________________________\n",
      " Layer (type)                Output Shape              Param #   \n",
      "=================================================================\n",
      " input_1 (InputLayer)        [(None, 224, 224, 3)]     0         \n",
      "                                                                 \n",
      " block1_conv1 (Conv2D)       (None, 224, 224, 64)      1792      \n",
      "                                                                 \n",
      " block1_conv2 (Conv2D)       (None, 224, 224, 64)      36928     \n",
      "                                                                 \n",
      " block1_pool (MaxPooling2D)  (None, 112, 112, 64)      0         \n",
      "                                                                 \n",
      " block2_conv1 (Conv2D)       (None, 112, 112, 128)     73856     \n",
      "                                                                 \n",
      " block2_conv2 (Conv2D)       (None, 112, 112, 128)     147584    \n",
      "                                                                 \n",
      " block2_pool (MaxPooling2D)  (None, 56, 56, 128)       0         \n",
      "                                                                 \n",
      " block3_conv1 (Conv2D)       (None, 56, 56, 256)       295168    \n",
      "                                                                 \n",
      " block3_conv2 (Conv2D)       (None, 56, 56, 256)       590080    \n",
      "                                                                 \n",
      " block3_conv3 (Conv2D)       (None, 56, 56, 256)       590080    \n",
      "                                                                 \n",
      " block3_pool (MaxPooling2D)  (None, 28, 28, 256)       0         \n",
      "                                                                 \n",
      " block4_conv1 (Conv2D)       (None, 28, 28, 512)       1180160   \n",
      "                                                                 \n",
      " block4_conv2 (Conv2D)       (None, 28, 28, 512)       2359808   \n",
      "                                                                 \n",
      " block4_conv3 (Conv2D)       (None, 28, 28, 512)       2359808   \n",
      "                                                                 \n",
      " block4_pool (MaxPooling2D)  (None, 14, 14, 512)       0         \n",
      "                                                                 \n",
      " block5_conv1 (Conv2D)       (None, 14, 14, 512)       2359808   \n",
      "                                                                 \n",
      " block5_conv2 (Conv2D)       (None, 14, 14, 512)       2359808   \n",
      "                                                                 \n",
      " block5_conv3 (Conv2D)       (None, 14, 14, 512)       2359808   \n",
      "                                                                 \n",
      " block5_pool (MaxPooling2D)  (None, 7, 7, 512)         0         \n",
      "                                                                 \n",
      " flatten (Flatten)           (None, 25088)             0         \n",
      "                                                                 \n",
      " fc1 (Dense)                 (None, 4096)              102764544 \n",
      "                                                                 \n",
      " fc2 (Dense)                 (None, 4096)              16781312  \n",
      "                                                                 \n",
      " predictions (Dense)         (None, 1000)              4097000   \n",
      "                                                                 \n",
      "=================================================================\n",
      "Total params: 138,357,544\n",
      "Trainable params: 138,357,544\n",
      "Non-trainable params: 0\n",
      "_________________________________________________________________\n"
     ]
    }
   ],
   "source": [
    "vggmodel.summary()\n"
   ]
  },
  {
   "cell_type": "code",
   "execution_count": 9,
   "metadata": {},
   "outputs": [
    {
     "name": "stdout",
     "output_type": "stream",
     "text": [
      "<keras.engine.input_layer.InputLayer object at 0x0000025FBAEE7E50>\n",
      "<keras.layers.convolutional.conv2d.Conv2D object at 0x0000025FBB034A90>\n",
      "<keras.layers.convolutional.conv2d.Conv2D object at 0x0000025FBAFF1FF0>\n",
      "<keras.layers.pooling.max_pooling2d.MaxPooling2D object at 0x0000025FBB0352A0>\n",
      "<keras.layers.convolutional.conv2d.Conv2D object at 0x0000025FBAFF1F00>\n",
      "<keras.layers.convolutional.conv2d.Conv2D object at 0x0000025FBB036800>\n",
      "<keras.layers.pooling.max_pooling2d.MaxPooling2D object at 0x0000025FBB037310>\n",
      "<keras.layers.convolutional.conv2d.Conv2D object at 0x0000025FBB036E90>\n",
      "<keras.layers.convolutional.conv2d.Conv2D object at 0x0000025FBB037B20>\n",
      "<keras.layers.convolutional.conv2d.Conv2D object at 0x0000025FBB037AC0>\n",
      "<keras.layers.pooling.max_pooling2d.MaxPooling2D object at 0x0000025FBB1496C0>\n",
      "<keras.layers.convolutional.conv2d.Conv2D object at 0x0000025FBB036D70>\n",
      "<keras.layers.convolutional.conv2d.Conv2D object at 0x0000025FBB14ADD0>\n",
      "<keras.layers.convolutional.conv2d.Conv2D object at 0x0000025FBB14AFE0>\n",
      "<keras.layers.pooling.max_pooling2d.MaxPooling2D object at 0x0000025FBB14BD60>\n",
      "<keras.layers.convolutional.conv2d.Conv2D object at 0x0000025FBB14BEB0>\n",
      "<keras.layers.convolutional.conv2d.Conv2D object at 0x0000025FBB15CE50>\n",
      "<keras.layers.convolutional.conv2d.Conv2D object at 0x0000025FBB14A2F0>\n",
      "<keras.layers.pooling.max_pooling2d.MaxPooling2D object at 0x0000025FBB15E3E0>\n"
     ]
    }
   ],
   "source": [
    "for layers in (vggmodel.layers)[:19]:\n",
    "    print(layers)\n",
    "    layers.trainable = False"
   ]
  },
  {
   "cell_type": "code",
   "execution_count": 18,
   "metadata": {},
   "outputs": [],
   "source": [
    "X= vggmodel.layers[-3].output\n",
    "predictions = Dense(3, activation=\"softmax\")(X)\n",
    "model_final = Model(vggmodel.input, predictions)"
   ]
  },
  {
   "cell_type": "code",
   "execution_count": 24,
   "metadata": {},
   "outputs": [
    {
     "name": "stderr",
     "output_type": "stream",
     "text": [
      "c:\\Users\\Lucille\\AppData\\Local\\Programs\\Python\\Python310\\lib\\site-packages\\keras\\optimizers\\optimizer_v2\\gradient_descent.py:108: UserWarning: The `lr` argument is deprecated, use `learning_rate` instead.\n",
      "  super(SGD, self).__init__(name, **kwargs)\n"
     ]
    }
   ],
   "source": [
    "model_final.compile(loss = \"categorical_crossentropy\", optimizer = \n",
    "                    optimizers.SGD(lr=0.0001, momentum=0.9), metrics=[\"accuracy\"])\n"
   ]
  },
  {
   "cell_type": "code",
   "execution_count": 35,
   "metadata": {},
   "outputs": [
    {
     "name": "stdout",
     "output_type": "stream",
     "text": [
      "Epoch 1/10\n",
      "9/9 [==============================] - ETA: 0s - loss: 5.4664e-06 - accuracy: 1.0000\n",
      "Epoch 1: val_accuracy improved from -inf to 0.52846, saving model to vgg16_1.h5\n",
      "9/9 [==============================] - 59s 7s/step - loss: 5.4664e-06 - accuracy: 1.0000 - val_loss: 14.9951 - val_accuracy: 0.5285\n",
      "Epoch 2/10\n",
      "9/9 [==============================] - ETA: 0s - loss: 5.3245e-06 - accuracy: 1.0000\n",
      "Epoch 2: val_accuracy did not improve from 0.52846\n",
      "9/9 [==============================] - 56s 6s/step - loss: 5.3245e-06 - accuracy: 1.0000 - val_loss: 14.9938 - val_accuracy: 0.5285\n",
      "Epoch 3/10\n",
      "9/9 [==============================] - ETA: 0s - loss: 5.1592e-06 - accuracy: 1.0000\n",
      "Epoch 3: val_accuracy did not improve from 0.52846\n",
      "9/9 [==============================] - 56s 6s/step - loss: 5.1592e-06 - accuracy: 1.0000 - val_loss: 14.9925 - val_accuracy: 0.5285\n",
      "Epoch 4/10\n",
      "9/9 [==============================] - ETA: 0s - loss: 5.0455e-06 - accuracy: 1.0000\n",
      "Epoch 4: val_accuracy did not improve from 0.52846\n",
      "9/9 [==============================] - 59s 7s/step - loss: 5.0455e-06 - accuracy: 1.0000 - val_loss: 14.9911 - val_accuracy: 0.5285\n",
      "Epoch 5/10\n",
      "9/9 [==============================] - ETA: 0s - loss: 4.9083e-06 - accuracy: 1.0000\n",
      "Epoch 5: val_accuracy did not improve from 0.52846\n",
      "9/9 [==============================] - 70s 8s/step - loss: 4.9083e-06 - accuracy: 1.0000 - val_loss: 14.9900 - val_accuracy: 0.5285\n",
      "Epoch 6/10\n",
      "9/9 [==============================] - ETA: 0s - loss: 4.7849e-06 - accuracy: 1.0000\n",
      "Epoch 6: val_accuracy did not improve from 0.52846\n",
      "9/9 [==============================] - 64s 7s/step - loss: 4.7849e-06 - accuracy: 1.0000 - val_loss: 14.9889 - val_accuracy: 0.5285\n",
      "Epoch 6: early stopping\n",
      "loss\n",
      "accuracy\n",
      "val_loss\n",
      "val_accuracy\n"
     ]
    }
   ],
   "source": [
    "from keras.callbacks import ModelCheckpoint, EarlyStopping\n",
    "metric = 'val_accuracy'\n",
    "checkpoint = ModelCheckpoint(\"vgg16_1.h5\", monitor=metric, verbose=1, save_best_only=True, save_weights_only=False, mode='auto', save_freq='epoch')\n",
    "early = EarlyStopping(monitor=metric, min_delta=0, patience=20, verbose=1, mode='auto')\n",
    "hist = model_final.fit(traindata, validation_data= testdata,epochs= 100, callbacks=[checkpoint,early])\n",
    "for key in hist.history:\n",
    "    print(key)\n",
    "model_final.save_weights(\"vgg16_1.h5\")"
   ]
  },
  {
   "cell_type": "code",
   "execution_count": 36,
   "metadata": {},
   "outputs": [
    {
     "data": {
      "image/png": "[encoded data removed]",
      "text/plain": [
       "<Figure size 432x288 with 1 Axes>"
      ]
     },
     "metadata": {
      "needs_background": "light"
     },
     "output_type": "display_data"
    }
   ],
   "source": [
    "import matplotlib.pyplot as plt\n",
    "plt.plot(hist.history[\"accuracy\"])\n",
    "plt.plot(hist.history['val_accuracy'])\n",
    "plt.plot(hist.history['loss'])\n",
    "plt.plot(hist.history['val_loss'])\n",
    "plt.title(\"model accuracy\")\n",
    "plt.ylabel(\"Accuracy\")\n",
    "plt.xlabel(\"Epoch\")\n",
    "plt.legend([\"Accuracy\",\"Validation Accuracy\",\"Loss\",\"Validation Loss\"])\n",
    "plt.show()"
   ]
  },
  {
   "cell_type": "code",
   "execution_count": 37,
   "metadata": {},
   "outputs": [
    {
     "data": {
      "text/plain": [
       "<matplotlib.legend.Legend at 0x25fd6723f10>"
      ]
     },
     "execution_count": 37,
     "metadata": {},
     "output_type": "execute_result"
    },
    {
     "data": {
      "image/png": "[encoded data removed]",
      "text/plain": [
       "<Figure size 432x288 with 1 Axes>"
      ]
     },
     "metadata": {
      "needs_background": "light"
     },
     "output_type": "display_data"
    }
   ],
   "source": []
  }
 ],
 "metadata": {
  "kernelspec": {
   "display_name": "Python 3.10.5 64-bit",
   "language": "python",
   "name": "python3"
  },
  "language_info": {
   "codemirror_mode": {
    "name": "ipython",
    "version": 3
   },
   "file_extension": ".py",
   "mimetype": "text/x-python",
   "name": "python",
   "nbconvert_exporter": "python",
   "pygments_lexer": "ipython3",
   "version": "3.10.5"
  },
  "orig_nbformat": 4,
  "vscode": {
   "interpreter": {
    "hash": "1db0049cf3cfdc1065ac3bcd8a22ba38c280b8160f7cfdfb1c284c02de4ef13b"
   }
  }
 },
 "nbformat": 4,
 "nbformat_minor": 2
}
